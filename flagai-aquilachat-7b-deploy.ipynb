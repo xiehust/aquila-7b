{
 "cells": [
  {
   "cell_type": "code",
   "execution_count": 36,
   "id": "f7215b8b",
   "metadata": {
    "tags": []
   },
   "outputs": [],
   "source": [
    "import sagemaker\n",
    "\n",
    "sagemaker_session = sagemaker.Session()\n",
    "bucket = sagemaker_session.default_bucket()\n",
    "role = sagemaker.get_execution_role()\n",
    "\n",
    "import boto3\n",
    "\n",
    "account_id = boto3.client(\"sts\").get_caller_identity().get(\"Account\")\n",
    "region_name = boto3.session.Session().region_name"
   ]
  },
  {
   "cell_type": "code",
   "execution_count": 78,
   "id": "8f381162",
   "metadata": {
    "tags": []
   },
   "outputs": [],
   "source": [
    "model_name = None\n",
    "image_uri = \"{0}.dkr.ecr.{1}.amazonaws.com/aquila-chat-7b-inference-api:latest\".format(\n",
    "    account_id, region_name\n",
    ")\n",
    "base_name = sagemaker.utils.base_name_from_image(image_uri)"
   ]
  },
  {
   "cell_type": "code",
   "execution_count": 79,
   "id": "c68d258f",
   "metadata": {
    "tags": []
   },
   "outputs": [
    {
     "name": "stdout",
     "output_type": "stream",
     "text": [
      "s3://sagemaker-us-east-2-946277762357/model/aquila-chat-7b/model.tar.gz\n"
     ]
    }
   ],
   "source": [
    "model_data = f\"s3://{bucket}/model/aquila-chat-7b/model.tar.gz\"\n",
    "print(model_data)\n",
    "# !touch dummy\n",
    "# !tar czvf model.tar.gz dummy\n",
    "# !rm dummy\n",
    "# !aws s3 cp model.tar.gz $model_data"
   ]
  },
  {
   "cell_type": "code",
   "execution_count": 90,
   "id": "e27b63f5",
   "metadata": {
    "tags": []
   },
   "outputs": [],
   "source": [
    "from sagemaker.model import Model\n",
    "from sagemaker.predictor import Predictor\n",
    "\n",
    "model = Model(\n",
    "    name=model_name,\n",
    "    model_data=model_data,\n",
    "    role=role,\n",
    "    image_uri=image_uri,\n",
    "    predictor_cls=Predictor,\n",
    ")"
   ]
  },
  {
   "cell_type": "code",
   "execution_count": 91,
   "id": "cca4dd0b",
   "metadata": {
    "tags": []
   },
   "outputs": [],
   "source": [
    "instance_type = \"ml.g5.4xlarge\"\n",
    "instance_count = 1"
   ]
  },
  {
   "cell_type": "code",
   "execution_count": null,
   "id": "4f648c8d",
   "metadata": {
    "tags": []
   },
   "outputs": [],
   "source": [
    "predictor = model.deploy(\n",
    "    instance_type=instance_type,\n",
    "    initial_instance_count=instance_count,\n",
    "    container_startup_health_check_timeout=1200,\n",
    ")"
   ]
  },
  {
   "cell_type": "code",
   "execution_count": 85,
   "id": "88258280",
   "metadata": {
    "tags": []
   },
   "outputs": [
    {
     "name": "stdout",
     "output_type": "stream",
     "text": [
      "aquila-chat-7b-inference-api-2023-06-19-07-38-17-031\n"
     ]
    }
   ],
   "source": [
    "print(predictor.endpoint_name)"
   ]
  },
  {
   "cell_type": "code",
   "execution_count": 86,
   "id": "dc845cba",
   "metadata": {
    "tags": []
   },
   "outputs": [],
   "source": [
    "from sagemaker.serializers import JSONSerializer\n",
    "from sagemaker.deserializers import JSONDeserializer\n",
    "\n",
    "predictor.serializer = JSONSerializer()\n",
    "predictor.deserializer = JSONDeserializer()\n",
    "\n",
    "inputs = {\n",
    "    \"inputs\": \"MSK有什么优势？\",\n",
    "    \"max_length\":200,\n",
    "    \"history\": []\n",
    "}\n",
    "\n",
    "prediction = predictor.predict(inputs)"
   ]
  },
  {
   "cell_type": "code",
   "execution_count": 87,
   "id": "00c78cd8-395e-4263-ae05-052f85cc8ec2",
   "metadata": {
    "tags": []
   },
   "outputs": [
    {
     "data": {
      "text/plain": [
       "'作为AI语言模型，我可以告诉你一些MSK的优势：\\n\\n1. 自然语言处理：MSK可以处理大量的文本数据，并生成自然流畅的回复，这使得它在各种场景下都能提供高效、准确的服务。\\n\\n2. 多语言支持：MSK支持多种语言，包括中文、英语、法语、德语、俄语等，这使得它可以更好地满足全球客户的需求。\\n\\n3. 快速响应：MSK可以快速处理大量的文本数据，并在短时间内生成回复，这使得它在一些紧急情况下能够提供快速、高效的解决方案。\\n\\n4. 智能对话：MSK可以学习和理解大量的对话数据，并生成智能对话回复，这使得它可以更好地满足客户的需求，并提供更个性化的服务。\\n\\n总之，MSK具有高效、准确、快速、智能的特点，这些优势使得它在各种场景下都能提供优质的服务。\\n'"
      ]
     },
     "execution_count": 87,
     "metadata": {},
     "output_type": "execute_result"
    }
   ],
   "source": [
    "prediction['response']"
   ]
  },
  {
   "cell_type": "code",
   "execution_count": 89,
   "id": "81e12384",
   "metadata": {
    "tags": []
   },
   "outputs": [],
   "source": [
    "#删除模型节点\n",
    "# predictor.delete_endpoint()"
   ]
  },
  {
   "cell_type": "code",
   "execution_count": null,
   "id": "4e6210d2-351b-4968-8734-7703a2bf4b34",
   "metadata": {},
   "outputs": [],
   "source": []
  }
 ],
 "metadata": {
  "kernelspec": {
   "display_name": "conda_python3",
   "language": "python",
   "name": "conda_python3"
  },
  "language_info": {
   "codemirror_mode": {
    "name": "ipython",
    "version": 3
   },
   "file_extension": ".py",
   "mimetype": "text/x-python",
   "name": "python",
   "nbconvert_exporter": "python",
   "pygments_lexer": "ipython3",
   "version": "3.10.8"
  }
 },
 "nbformat": 4,
 "nbformat_minor": 5
}
